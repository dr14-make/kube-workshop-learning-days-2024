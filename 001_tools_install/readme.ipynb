{
 "cells": [
  {
   "cell_type": "markdown",
   "metadata": {},
   "source": [
    "# What are we going to do \n",
    "\n",
    "We are going to create a cluster to use for home projects, with proper secret handler, argocd setup and traefic routing, bu the end of the presentation I hope you will have a plugin setup tou can repeat on any machine or cloud instance. We are going to do it without (almoust) any investments and subscription plans using free tires in payed resources. \n",
    "\n",
    "1. Install minkube\n",
    "2. Setup argocd \n",
    "3. Setup traefik\n",
    "    * Cludflare reverse proxy and \n",
    "4. Setup ExternalSecret Operator"
   ]
  },
  {
   "cell_type": "markdown",
   "metadata": {},
   "source": [
    "\n",
    "# Install minkube"
   ]
  },
  {
   "cell_type": "code",
   "execution_count": 1,
   "metadata": {},
   "outputs": [
    {
     "name": "stdout",
     "output_type": "stream",
     "text": [
      "\u001b[34m==>\u001b[0m \u001b[1mAuto-updating Homebrew...\u001b[0m\n",
      "Adjust how often this is run with HOMEBREW_AUTO_UPDATE_SECS or disable with\n",
      "HOMEBREW_NO_AUTO_UPDATE. Hide these hints with HOMEBREW_NO_ENV_HINTS (see `man brew`).\n",
      "\u001b[34m==>\u001b[0m \u001b[1mAuto-updated Homebrew!\u001b[0m\n",
      "Updated 6 taps (hashicorp/tap, knative/client, padok-team/tap, loft-sh/tap, homebrew/core and homebrew/cask).\n",
      "\u001b[34m==>\u001b[0m \u001b[1mNew Formulae\u001b[0m\n",
      "argtable3                                m68k-elf-binutils\n",
      "blisp                                    m68k-elf-gcc\n",
      "clickhouse-sql-parser                    minijinja-cli\n",
      "distill-cli                              openapi-diff\n",
      "djlint                                   oxlint\n",
      "dug                                      padok-team/tap/baywatch@0.3.0\n",
      "gptme                                    paperjam\n",
      "hawkeye                                  pipet\n",
      "icu4c@75                                 python-gdbm@3.13\n",
      "jikken                                   python-tk@3.13\n",
      "jxl-oxide                                python@3.13\n",
      "libcss                                   recc\n",
      "libdom                                   sf\n",
      "libhubbub                                termscp\n",
      "libparserutils                           tllist\n",
      "libspelling@0.2                          tmux-sessionizer\n",
      "\u001b[34m==>\u001b[0m \u001b[1mNew Casks\u001b[0m\n",
      "ableset                                  font-moderustic\n",
      "adlock                                   font-mynaui-icons\n",
      "anytype@alpha                            font-new-amsterdam\n",
      "anytype@beta                             font-noto-serif-todhri\n",
      "backyard-ai                              font-sour-gummy\n",
      "bentobox                                 font-suse\n",
      "cap                                      furtherance\n",
      "colemak-dh                               homerow\n",
      "colemak-dhk                              imaging-edge\n",
      "displaybuddy                             legcord\n",
      "font-bungee-tint                         magicquit\n",
      "font-doto                                microsoft-edge@canary\n",
      "font-edu-au-vic-wa-nt-arrows             morisawa-desktop-manager\n",
      "font-edu-au-vic-wa-nt-dots               pixel-shift-combiner\n",
      "font-edu-au-vic-wa-nt-guides             quba\n",
      "font-edu-au-vic-wa-nt-pre                sanctum\n",
      "font-faculty-glyphic                     singlebox\n",
      "font-funnel-display                      thunderbird@esr\n",
      "font-funnel-sans                         typefully\n",
      "font-host-grotesk                        webkinz\n",
      "font-matemasie\n",
      "\n",
      "You have \u001b[1m67\u001b[0m outdated formulae installed.\n",
      "\n",
      "\u001b[33mWarning:\u001b[0m minikube 1.34.0 is already installed and up-to-date.\n",
      "To reinstall 1.34.0, run:\n",
      "  brew reinstall minikube\n"
     ]
    }
   ],
   "source": [
    "!brew install minikube"
   ]
  }
 ],
 "metadata": {
  "kernelspec": {
   "display_name": "Python 3",
   "language": "python",
   "name": "python3"
  },
  "language_info": {
   "codemirror_mode": {
    "name": "ipython",
    "version": 3
   },
   "file_extension": ".py",
   "mimetype": "text/x-python",
   "name": "python",
   "nbconvert_exporter": "python",
   "pygments_lexer": "ipython3",
   "version": "3.9.6"
  }
 },
 "nbformat": 4,
 "nbformat_minor": 2
}
